{
 "cells": [
  {
   "cell_type": "markdown",
   "id": "ce54f84c-0306-429d-b760-a21237356204",
   "metadata": {},
   "source": [
    "# [title] (TODO)"
   ]
  },
  {
   "cell_type": "markdown",
   "id": "2232e4cf-37d7-48cb-8af4-39b0469ad426",
   "metadata": {},
   "source": [
    "## Prerequisites"
   ]
  },
  {
   "cell_type": "markdown",
   "id": "1838f2cf-3b3c-454b-a072-2c7679c91abe",
   "metadata": {},
   "source": [
    "1. Please ensure that you have a Document AI Warehouse instance in your project. You can follow [this quickstart](https://cloud.google.com/document-warehouse/docs/quickstart) to complete the setup.\n",
    "2. Create a Document AI [Invoice processor](https://cloud.google.com/document-ai/docs/processors-list#processor_invoice-processor) and update the `DOCAI_PROCESSOR_ID` variable below.\n",
    "3. If you are using a Vertex AI Workbench Managed Notebook, ensure to grant the following roles:\n",
    "> * [roles/contentwarehouse.documentAdmin](https://cloud.google.com/document-warehouse/docs/manage-access-control)\n",
    "> * [roles/documentai.apiUser](https://cloud.google.com/document-ai/docs/access-control/iam-roles)"
   ]
  },
  {
   "cell_type": "markdown",
   "id": "c50c7341-f66d-46dd-a303-e5fe1fa4a9f4",
   "metadata": {},
   "source": [
    "## env setup"
   ]
  },
  {
   "cell_type": "code",
   "execution_count": 1,
   "id": "b4eaaaba-04fd-4b1a-80e7-1037db11cbfe",
   "metadata": {},
   "outputs": [
    {
     "name": "stdout",
     "output_type": "stream",
     "text": [
      "PROJECT_ID       : hybrid-vertex\n",
      "PROJECT_NUM      : 934903580331\n",
      "LOCATION         : us-central1\n",
      "REGION           : us-central1\n",
      "BQ_LOCATION      : US\n",
      "DOC_AI_LOCATION  : us\n",
      "VPC_NETWORK_NAME : ucaip-haystack-vpc-network\n"
     ]
    }
   ],
   "source": [
    "GCP_PROJECTS             = !gcloud config get-value project\n",
    "PROJECT_ID               = GCP_PROJECTS[0]\n",
    "\n",
    "PROJECT_NUM              = !gcloud projects describe $PROJECT_ID --format=\"value(projectNumber)\"\n",
    "PROJECT_NUM              = PROJECT_NUM[0]\n",
    "\n",
    "# locations / regions for cloud resources\n",
    "LOCATION                 = 'us-central1'     # TODO\n",
    "REGION                   = LOCATION          # TODO\n",
    "BQ_LOCATION              = 'US'              # TODO\n",
    "DOC_AI_LOCATION          = \"us\"              # Format is \"us\" or \"eu\"\n",
    "\n",
    "# VPC network (TODO: public endpoints)\n",
    "VPC_NETWORK_NAME         = \"ucaip-haystack-vpc-network\" # TODO\n",
    "\n",
    "print(f\"PROJECT_ID       : {PROJECT_ID}\")\n",
    "print(f\"PROJECT_NUM      : {PROJECT_NUM}\")\n",
    "print(f\"LOCATION         : {LOCATION}\")\n",
    "print(f\"REGION           : {REGION}\")\n",
    "print(f\"BQ_LOCATION      : {BQ_LOCATION}\")\n",
    "print(f\"DOC_AI_LOCATION  : {DOC_AI_LOCATION}\")\n",
    "print(f\"VPC_NETWORK_NAME : {VPC_NETWORK_NAME}\")"
   ]
  },
  {
   "cell_type": "code",
   "execution_count": 2,
   "id": "2d4394bd-fe59-4af7-a4e5-f80c0933293a",
   "metadata": {},
   "outputs": [],
   "source": [
    "import pandas as pd\n",
    "import numpy as np\n",
    "\n",
    "from google.cloud import aiplatform as vertex_ai\n",
    "from google.cloud import storage\n",
    "from google.cloud import bigquery"
   ]
  },
  {
   "cell_type": "code",
   "execution_count": 3,
   "id": "90b14410-698d-4289-90be-7d6d191535d3",
   "metadata": {},
   "outputs": [],
   "source": [
    "# cloud storage client\n",
    "storage_client = storage.Client(project=PROJECT_ID)\n",
    "\n",
    "# Vertex client\n",
    "vertex_ai.init(project=PROJECT_ID, location=LOCATION)\n",
    "\n",
    "# bigquery client\n",
    "bqclient = bigquery.Client(\n",
    "    project=PROJECT_ID,\n",
    "    # location=LOCATION\n",
    ")"
   ]
  },
  {
   "cell_type": "code",
   "execution_count": 4,
   "id": "f2b3834f-319b-4e64-aecd-4cb7db1794f6",
   "metadata": {},
   "outputs": [
    {
     "name": "stdout",
     "output_type": "stream",
     "text": [
      "CREATE_NEW_ASSETS : True\n",
      "ACTOR_PREFIX      : jts\n",
      "VERSION           : v1\n",
      "USE_CASE          : invoice-recon\n"
     ]
    }
   ],
   "source": [
    "# create new BQ datasets, tables, etc.?\n",
    "CREATE_NEW_ASSETS         = True            # TODO: True | False\n",
    "\n",
    "USE_CASE                  = 'invoice-recon'  # TODO\n",
    "ACTOR_PREFIX              = 'jts'            # TODO\n",
    "VERSION                   = 'v1'             # TODO\n",
    "\n",
    "print(f\"CREATE_NEW_ASSETS : {CREATE_NEW_ASSETS}\")\n",
    "print(f\"ACTOR_PREFIX      : {ACTOR_PREFIX}\")\n",
    "print(f\"VERSION           : {VERSION}\")\n",
    "print(f\"USE_CASE          : {USE_CASE}\")"
   ]
  },
  {
   "cell_type": "code",
   "execution_count": 5,
   "id": "b7e78494-78c4-46ad-8759-ac446e511c5d",
   "metadata": {},
   "outputs": [
    {
     "name": "stdout",
     "output_type": "stream",
     "text": [
      "BUCKET_NAME        : a-jts-v1-invoice-recon\n",
      "BUCKET_URI         : gs://a-jts-v1-invoice-recon\n",
      "MY_BQ_DATASET      : a_jts_v1_invoice_recon\n",
      "VPC_NETWORK_FULL   : projects/934903580331/global/networks/ucaip-haystack-vpc-network\n"
     ]
    }
   ],
   "source": [
    "BUCKET_NAME              = f'a-{ACTOR_PREFIX}-{VERSION}-{USE_CASE}'\n",
    "BUCKET_URI               = f'gs://{BUCKET_NAME}'\n",
    "\n",
    "# bigquery dataset\n",
    "MY_BQ_DATASET            = BUCKET_NAME.lower().replace(PROJECT_ID,\"\").replace(\"-\",\"_\").rstrip(\"_\")\n",
    "\n",
    "# vpc network\n",
    "VPC_NETWORK_FULL         = f\"projects/{PROJECT_NUM}/global/networks/{VPC_NETWORK_NAME}\"\n",
    "\n",
    "print(f\"BUCKET_NAME        : {BUCKET_NAME}\")\n",
    "print(f\"BUCKET_URI         : {BUCKET_URI}\")\n",
    "print(f\"MY_BQ_DATASET      : {MY_BQ_DATASET}\")\n",
    "print(f\"VPC_NETWORK_FULL   : {VPC_NETWORK_FULL}\")"
   ]
  },
  {
   "cell_type": "code",
   "execution_count": 6,
   "id": "11b32d55-8e9f-4428-b781-cc0b208b4efd",
   "metadata": {},
   "outputs": [
    {
     "name": "stdout",
     "output_type": "stream",
     "text": [
      "Creating gs://a-jts-v1-invoice-recon/...\n"
     ]
    }
   ],
   "source": [
    "if CREATE_NEW_ASSETS:\n",
    "    ! gsutil mb -l $LOCATION $BUCKET_URI"
   ]
  },
  {
   "cell_type": "code",
   "execution_count": 7,
   "id": "08390e01-86d7-4ed3-a719-4adf9cd57147",
   "metadata": {},
   "outputs": [],
   "source": [
    "!gsutil ls $BUCKET_URI"
   ]
  },
  {
   "cell_type": "code",
   "execution_count": 8,
   "id": "4e43c3cc-f624-43b2-9a3a-858f6acdc446",
   "metadata": {},
   "outputs": [
    {
     "name": "stdout",
     "output_type": "stream",
     "text": [
      "hybrid-vertex:a_jts_v1_invoice_recon\n"
     ]
    }
   ],
   "source": [
    "if CREATE_NEW_ASSETS:\n",
    "    ds = bigquery.Dataset(f\"{PROJECT_ID}.{MY_BQ_DATASET}\")\n",
    "    ds.location = 'us' #Multi-region is REGION[0:2]\n",
    "    ds = bqclient.create_dataset(dataset = ds, exists_ok = False)\n",
    "\n",
    "    print(ds.full_dataset_id)"
   ]
  },
  {
   "cell_type": "code",
   "execution_count": 10,
   "id": "df1ecf1f-112c-4b5a-bc04-b0ec0080003b",
   "metadata": {},
   "outputs": [
    {
     "name": "stdout",
     "output_type": "stream",
     "text": [
      "\n",
      "PROJECT_ID               = \"hybrid-vertex\"\n",
      "PROJECT_NUM              = \"934903580331\"\n",
      "LOCATION                 = \"us-central1\"\n",
      "\n",
      "REGION                   = \"us-central1\"\n",
      "BQ_LOCATION              = \"US\"\n",
      "DOC_AI_LOCATION          = \"us\"\n",
      "VPC_NETWORK_NAME         = \"ucaip-haystack-vpc-network\"\n",
      "\n",
      "ACTOR_PREFIX             = \"jts\"\n",
      "VERSION                  = \"v1\"\n",
      "\n",
      "BUCKET_NAME              = \"a-jts-v1-invoice-recon\"\n",
      "BUCKET_URI               = \"gs://a-jts-v1-invoice-recon\"\n",
      "\n",
      "VPC_NETWORK_FULL         = \"projects/934903580331/global/networks/ucaip-haystack-vpc-network\"\n",
      "\n",
      "MY_BQ_DATASET            = \"a_jts_v1_invoice_recon\"\n",
      "\n"
     ]
    }
   ],
   "source": [
    "config = f\"\"\"\n",
    "PROJECT_ID               = \\\"{PROJECT_ID}\\\"\n",
    "PROJECT_NUM              = \\\"{PROJECT_NUM}\\\"\n",
    "LOCATION                 = \\\"{LOCATION}\\\"\n",
    "\n",
    "REGION                   = \\\"{REGION}\\\"\n",
    "BQ_LOCATION              = \\\"{BQ_LOCATION}\\\"\n",
    "DOC_AI_LOCATION          = \\\"{DOC_AI_LOCATION}\\\"\n",
    "VPC_NETWORK_NAME         = \\\"{VPC_NETWORK_NAME}\\\"\n",
    "\n",
    "ACTOR_PREFIX             = \\\"{ACTOR_PREFIX}\\\"\n",
    "VERSION                  = \\\"{VERSION}\\\"\n",
    "\n",
    "BUCKET_NAME              = \\\"{BUCKET_NAME}\\\"\n",
    "BUCKET_URI               = \\\"{BUCKET_URI}\\\"\n",
    "\n",
    "VPC_NETWORK_FULL         = \\\"{VPC_NETWORK_FULL}\\\"\n",
    "\n",
    "MY_BQ_DATASET            = \\\"{MY_BQ_DATASET}\\\"\n",
    "\"\"\"\n",
    "print(config)"
   ]
  },
  {
   "cell_type": "code",
   "execution_count": 11,
   "id": "8fde5e3e-9485-41a6-86ff-cc09cb985633",
   "metadata": {},
   "outputs": [
    {
     "name": "stdout",
     "output_type": "stream",
     "text": [
      "Copying from <STDIN>...\n",
      "/ [1 files][    0.0 B/    0.0 B]                                                \n",
      "Operation completed over 1 objects.                                              \n"
     ]
    }
   ],
   "source": [
    "!echo '{config}' | gsutil cp - {BUCKET_URI}/config/notebook_env.py"
   ]
  },
  {
   "cell_type": "code",
   "execution_count": 12,
   "id": "a2bba2cb-2249-4ecb-9470-7f366103f940",
   "metadata": {},
   "outputs": [
    {
     "name": "stdout",
     "output_type": "stream",
     "text": [
      "gs://a-jts-v1-invoice-recon/config/\n"
     ]
    }
   ],
   "source": [
    "!gsutil ls $BUCKET_URI"
   ]
  },
  {
   "cell_type": "markdown",
   "id": "c66642dd-2f66-4364-ad66-ca0ff8a9e073",
   "metadata": {},
   "source": [
    "## Enable APIs"
   ]
  },
  {
   "cell_type": "code",
   "execution_count": null,
   "id": "e9e8d4ef-1295-4866-a7d2-20ff1ab1a7b0",
   "metadata": {},
   "outputs": [],
   "source": [
    "# DocAI\n",
    "!gcloud services enable documentai.googleapis.com\n",
    "\n",
    "# Vertex AI \n",
    "!gcloud services enable aiplatform.googleapis.com"
   ]
  },
  {
   "cell_type": "markdown",
   "id": "cd6d8f2b-0152-4d26-be03-ba7bdb858472",
   "metadata": {},
   "source": [
    "### do these in notebook terminal"
   ]
  },
  {
   "cell_type": "code",
   "execution_count": null,
   "id": "98ddf1af-0965-4965-ba98-40b7c04e3da4",
   "metadata": {},
   "outputs": [],
   "source": [
    "# pip install --upgrade google-cloud-documentai-toolbox --user\n",
    "\n",
    "# should install\n",
    "# google-cloud-documentai==2.18.0\n",
    "# google-cloud-documentai-toolbox==0.10.0a0"
   ]
  },
  {
   "cell_type": "code",
   "execution_count": null,
   "id": "b0729193-388a-4b0e-9d44-c488793e269e",
   "metadata": {},
   "outputs": [],
   "source": [
    "# pip install google-cloud-contentwarehouse"
   ]
  },
  {
   "cell_type": "code",
   "execution_count": null,
   "id": "57f2d0e0-0c81-457b-8f09-9c72e5173b5f",
   "metadata": {},
   "outputs": [],
   "source": [
    "# pip install PyPDF2"
   ]
  },
  {
   "cell_type": "markdown",
   "id": "59f109e9-05c6-49a5-bfd8-f69fe0f5fc28",
   "metadata": {},
   "source": [
    "## git ignore"
   ]
  },
  {
   "cell_type": "code",
   "execution_count": 13,
   "id": "ec506fca-a01c-4472-a6c8-4fca833fb249",
   "metadata": {},
   "outputs": [
    {
     "name": "stdout",
     "output_type": "stream",
     "text": [
      "Writing .gitignore\n"
     ]
    }
   ],
   "source": [
    "%%writefile .gitignore\n",
    "*.cpython-310.pyc\n",
    "*checkpoint.ipynb\n",
    "*.ipynb_checkpoints/*\n",
    "*__pycache__\n",
    "# *cpython-37.pyc\n",
    "# .gitignore\n",
    "# .DS_Store\n",
    "*jt-wip*"
   ]
  },
  {
   "cell_type": "markdown",
   "id": "cb31efe7-e007-4a47-b8dc-891848d62622",
   "metadata": {},
   "source": [
    "## gcloudignore"
   ]
  },
  {
   "cell_type": "code",
   "execution_count": 17,
   "id": "aea5af63-513a-4131-bc93-5644582ccdc7",
   "metadata": {},
   "outputs": [
    {
     "name": "stdout",
     "output_type": "stream",
     "text": [
      "Updated property [gcloudignore/enabled].\n"
     ]
    }
   ],
   "source": [
    "! gcloud config set gcloudignore/enabled true"
   ]
  },
  {
   "cell_type": "code",
   "execution_count": null,
   "id": "5cbf7a17-33e8-456d-b128-e57217750a9a",
   "metadata": {},
   "outputs": [],
   "source": [
    "# %%writefile .gcloudignore\n",
    "# .gcloudignore\n",
    "# *.pkl\n",
    "# *.png\n",
    "# *.pdf\n",
    "# *.jpg\n",
    "# *.ipynb\n",
    "# .git\n",
    "# .github\n",
    "# .ipynb_checkpoints/*\n",
    "# *__pycache__\n",
    "# *cpython-37.pyc"
   ]
  }
 ],
 "metadata": {
  "environment": {
   "kernel": "python3",
   "name": "tf2-gpu.2-11.m110",
   "type": "gcloud",
   "uri": "gcr.io/deeplearning-platform-release/tf2-gpu.2-11:m110"
  },
  "kernelspec": {
   "display_name": "Python 3",
   "language": "python",
   "name": "python3"
  },
  "language_info": {
   "codemirror_mode": {
    "name": "ipython",
    "version": 3
   },
   "file_extension": ".py",
   "mimetype": "text/x-python",
   "name": "python",
   "nbconvert_exporter": "python",
   "pygments_lexer": "ipython3",
   "version": "3.10.12"
  }
 },
 "nbformat": 4,
 "nbformat_minor": 5
}
